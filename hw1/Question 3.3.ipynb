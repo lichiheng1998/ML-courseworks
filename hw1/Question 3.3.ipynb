{
 "cells": [
  {
   "cell_type": "markdown",
   "metadata": {},
   "source": [
    "### (a) ~  (b)"
   ]
  },
  {
   "cell_type": "code",
   "execution_count": 1,
   "metadata": {},
   "outputs": [],
   "source": [
    "import numpy as np"
   ]
  },
  {
   "cell_type": "markdown",
   "metadata": {},
   "source": [
    "Function which shuffles the list in uniformly random permutation"
   ]
  },
  {
   "cell_type": "code",
   "execution_count": 2,
   "metadata": {},
   "outputs": [],
   "source": [
    "def shuffle_data(data):\n",
    "    order = np.random.permutation(len(data['X']))\n",
    "    # shuffle X and t in the same order\n",
    "    for i in range(0, len(order)):\n",
    "        X = data['X'][order]\n",
    "        t = data['t'][order]\n",
    "    # return the shuffled array\n",
    "    return {'X': X, 't': t}"
   ]
  },
  {
   "cell_type": "markdown",
   "metadata": {},
   "source": [
    "Given the data, fold number, and the fold to be selected as the validation set, split the data with the given requirements.<br/>\n",
    "The function will distribute the fold as evenly as possible, the algorithm will is:\n",
    "  1. `len(data) % num_folds` folds have `size len(data) // num_folds + 1`\n",
    "  2. Other folds have size `len(data) // num_folds`"
   ]
  },
  {
   "cell_type": "code",
   "execution_count": 3,
   "metadata": {},
   "outputs": [],
   "source": [
    "def split_data(data, num_folds, fold):\n",
    "    X, t = data['X'], data['t']\n",
    "    length = len(X) \n",
    "    first_batch = length % num_folds;\n",
    "    \n",
    "    # the longer fold is 1 unit longer than the short fold\n",
    "    short_fold_len = length // num_folds\n",
    "    long_fold_len = short_fold_len + 1\n",
    "    \n",
    "    # the fold can belong the short folds or the long folds\n",
    "    if fold <= first_batch:\n",
    "        start = (fold - 1) * long_fold_len\n",
    "        end = start + long_fold_len\n",
    "    else:\n",
    "        start = (first_batch * long_fold_len) + (fold - first_batch - 1) * short_fold_len\n",
    "        end = start + short_fold_len\n",
    "    \n",
    "    # construct the dataset\n",
    "    test_data = {'X': X[start: end], 't': t[start: end]}\n",
    "    rest_data = {'X': np.concatenate((X[:start], X[end:])), 't': np.concatenate((t[:start], t[end:]))}\n",
    "    return test_data, rest_data"
   ]
  },
  {
   "cell_type": "markdown",
   "metadata": {},
   "source": [
    "Train the model with **ridge regression** with weight $\\hat{\\mathbf{w}}_{MAP} = (\\mathbf{X}^\\top\\mathbf{X} + \\lambda\\mathbf{I})^{-1}\\mathbf{X}^\\top\\mathbf{t}$"
   ]
  },
  {
   "cell_type": "code",
   "execution_count": 4,
   "metadata": {},
   "outputs": [],
   "source": [
    "def train_model(data, lambd):\n",
    "    X, t = data['X'], data['t']\n",
    "    X_T = X.transpose()\n",
    "    # using the equation\n",
    "    return np.linalg.inv((X_T @ X) + (lambd * np.identity(len(X[0])))) @ X_T @ t"
   ]
  },
  {
   "cell_type": "markdown",
   "metadata": {},
   "source": [
    "Given the data and the estimator $\\hat{\\mathbf{w}}_{MAP}$, predict the label vector of the data"
   ]
  },
  {
   "cell_type": "code",
   "execution_count": 5,
   "metadata": {},
   "outputs": [],
   "source": [
    "def predict(data, model):\n",
    "    return data @ model"
   ]
  },
  {
   "cell_type": "markdown",
   "metadata": {},
   "source": [
    "Calculate the average squared ***error*** loss based on model using the equation: $\\lVert \\mathbf{t} - \\mathbf{X\\hat{w}}\\lVert^2/n$"
   ]
  },
  {
   "cell_type": "code",
   "execution_count": 6,
   "metadata": {},
   "outputs": [],
   "source": [
    "def loss(data, model):\n",
    "    X, t = data['X'], data['t']\n",
    "    return (np.linalg.norm(t - (predict(X, model))) ** 2) / len(X)"
   ]
  },
  {
   "cell_type": "code",
   "execution_count": 7,
   "metadata": {},
   "outputs": [],
   "source": [
    "def cross_validation(data, num_folds, lambd_seq):\n",
    "    data = shuffle_data(data)\n",
    "    cv_error = np.empty(shape=(len(lambd_seq),))\n",
    "    \n",
    "    # for each lambda in the lambda sequence, calculate the average squared error with cross validation\n",
    "    for i in range(len(lambd_seq)):\n",
    "        lambd = lambd_seq[i]\n",
    "        cv_loss_lmd = 0.\n",
    "        for fold in range(1, num_folds + 1):\n",
    "            val_cv, train_cv = split_data(data, num_folds, fold)\n",
    "            model = train_model(train_cv, lambd)\n",
    "            cv_loss_lmd += loss(val_cv, model)\n",
    "        cv_error[i] = cv_loss_lmd / num_folds\n",
    "    return cv_error"
   ]
  },
  {
   "cell_type": "markdown",
   "metadata": {},
   "source": [
    "Gathering the train and test data"
   ]
  },
  {
   "cell_type": "code",
   "execution_count": 8,
   "metadata": {},
   "outputs": [],
   "source": [
    "data_train = {'X': np.genfromtxt('data_train_X.csv', delimiter = ','),\n",
    "              't': np.genfromtxt('data_train_y.csv', delimiter = ',')}\n",
    "data_test = {'X': np.genfromtxt('data_test_X.csv', delimiter = ','),\n",
    "              't': np.genfromtxt('data_test_y.csv', delimiter = ',')}"
   ]
  },
  {
   "cell_type": "markdown",
   "metadata": {},
   "source": [
    "### (c)\n",
    "Generate lambda sequence using the number evenly spaced in the interval (0.02, 1.5)"
   ]
  },
  {
   "cell_type": "code",
   "execution_count": 9,
   "metadata": {},
   "outputs": [],
   "source": [
    "lambd_seq = np.linspace(0.02, 1.5, num=50)"
   ]
  },
  {
   "cell_type": "markdown",
   "metadata": {},
   "source": [
    "Calculate the train and test errors for each lambda in the lambda sequence"
   ]
  },
  {
   "cell_type": "code",
   "execution_count": 10,
   "metadata": {},
   "outputs": [],
   "source": [
    "data_train = shuffle_data(data_train)\n",
    "train_error, test_error = np.empty(shape=(len(lambd_seq),)), np.empty(shape=(len(lambd_seq),))\n",
    "for i in range(len(lambd_seq)):\n",
    "    lambd = lambd_seq[i]\n",
    "    model = train_model(data_train, lambd)\n",
    "    train_error[i], test_error[i] = loss(data_train, model), loss(data_test, model)"
   ]
  },
  {
   "cell_type": "markdown",
   "metadata": {},
   "source": [
    "### (d)\n",
    "Calculate five and ten fold cross validation errors"
   ]
  },
  {
   "cell_type": "code",
   "execution_count": 11,
   "metadata": {},
   "outputs": [],
   "source": [
    "five_fold_cv_error = cross_validation(data_train, 5, lambd_seq)"
   ]
  },
  {
   "cell_type": "code",
   "execution_count": 12,
   "metadata": {},
   "outputs": [],
   "source": [
    "ten_fold_cv_error = cross_validation(data_train, 10, lambd_seq)"
   ]
  },
  {
   "cell_type": "markdown",
   "metadata": {},
   "source": [
    "Plot test, train, five, ten fold cross validation errors for each lambda"
   ]
  },
  {
   "cell_type": "code",
   "execution_count": 13,
   "metadata": {},
   "outputs": [],
   "source": [
    "from matplotlib import pyplot as plt"
   ]
  },
  {
   "cell_type": "code",
   "execution_count": 28,
   "metadata": {},
   "outputs": [
    {
     "data": {
      "text/plain": [
       "<matplotlib.legend.Legend at 0x7f36a72c8a10>"
      ]
     },
     "execution_count": 28,
     "metadata": {},
     "output_type": "execute_result"
    },
    {
     "data": {
      "image/png": "[encoded data removed]",
      "text/plain": [
       "<Figure size 432x288 with 1 Axes>"
      ]
     },
     "metadata": {
      "needs_background": "light"
     },
     "output_type": "display_data"
    }
   ],
   "source": [
    "%matplotlib inline\n",
    "x = np.array(lambd_seq)\n",
    "y_train, y_test, y_five_cv, y_ten_cv = train_error, test_error, five_fold_cv_error, ten_fold_cv_error\n",
    "fig = plt.figure()\n",
    "ax = fig.add_axes([0, 0, 1, 1])\n",
    "ax.plot(x, y_train, '-o', label=\"train error\")\n",
    "ax.plot(x, y_test, '-o', label=\"test error\")\n",
    "ax.plot(x, y_five_cv, '-o', label=\"5 fold cv error\")\n",
    "ax.plot(x, y_ten_cv, '-o', label=\"10 fold cv error\")\n",
    "ax.set_title(\"error curve\")\n",
    "ax.set_xlabel(\"lambda\")\n",
    "ax.set_ylabel(\"error\")\n",
    "plt.legend()"
   ]
  },
  {
   "cell_type": "code",
   "execution_count": 20,
   "metadata": {},
   "outputs": [],
   "source": [
    "ten_fold_min_lambd = lambd_seq[np.argmin(y_ten_cv)];"
   ]
  },
  {
   "cell_type": "code",
   "execution_count": 21,
   "metadata": {},
   "outputs": [],
   "source": [
    "five_fold_min_lambd = lambd_seq[np.argmin(y_five_cv)];"
   ]
  },
  {
   "cell_type": "code",
   "execution_count": 22,
   "metadata": {},
   "outputs": [],
   "source": [
    "min_lambd = min(ten_fold_min_lambd, five_fold_min_lambd)"
   ]
  },
  {
   "cell_type": "code",
   "execution_count": 23,
   "metadata": {},
   "outputs": [
    {
     "data": {
      "text/plain": [
       "0.3522448979591837"
      ]
     },
     "execution_count": 23,
     "metadata": {},
     "output_type": "execute_result"
    }
   ],
   "source": [
    "min_lambd"
   ]
  },
  {
   "cell_type": "markdown",
   "metadata": {},
   "source": [
    "### Comment\n",
    "The lambda proposed by the plot is the mininum between the argmin of 5 and 10 fold cross validation error which is about 0.352. The argmin of train and test error are not proposed since they don't have a valid validation set.\n",
    "\n",
    "According to the plot, the model trained with training data directly is overfitting. Since the loss of prediciting test data with this model is much larger than the training error.\n",
    "\n",
    "The trainning error is increasing as lambda increases, since as lambda increases, the model is affected more by the regularizer. Initially, the error should be the minimum average squared error, but the regularizer penalize the the loss more and more as the lambda increases, thats why the training error increases.\n",
    "\n",
    "The cross validation method reduces the extend of over fitting of the model. It can be shown by the fact that the shape of the cross validation error curve is very similar to the actual test error curve."
   ]
  }
 ],
 "metadata": {
  "kernelspec": {
   "display_name": "Python [conda env:.conda-csc311env] *",
   "language": "python",
   "name": "conda-env-.conda-csc311env-py"
  },
  "language_info": {
   "codemirror_mode": {
    "name": "ipython",
    "version": 3
   },
   "file_extension": ".py",
   "mimetype": "text/x-python",
   "name": "python",
   "nbconvert_exporter": "python",
   "pygments_lexer": "ipython3",
   "version": "3.7.4"
  }
 },
 "nbformat": 4,
 "nbformat_minor": 2
}
