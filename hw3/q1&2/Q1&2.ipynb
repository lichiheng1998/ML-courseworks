{
 "cells": [
  {
   "cell_type": "code",
   "execution_count": 1,
   "metadata": {},
   "outputs": [],
   "source": [
    "from __future__ import absolute_import\n",
    "from __future__ import print_function\n",
    "from future.standard_library import install_aliases\n",
    "install_aliases()\n",
    "import numpy as np\n",
    "import os\n",
    "import gzip\n",
    "import struct\n",
    "import array\n",
    "import matplotlib.pyplot as plt\n",
    "import matplotlib.image\n",
    "from urllib.request import urlretrieve"
   ]
  },
  {
   "cell_type": "code",
   "execution_count": 2,
   "metadata": {},
   "outputs": [],
   "source": [
    "def download(url, filename):\n",
    "    if not os.path.exists('data'):\n",
    "        os.makedirs('data')\n",
    "    out_file = os.path.join('data', filename)\n",
    "    if not os.path.isfile(out_file):\n",
    "        urlretrieve(url, out_file)"
   ]
  },
  {
   "cell_type": "code",
   "execution_count": 3,
   "metadata": {},
   "outputs": [],
   "source": [
    "def mnist():\n",
    "    base_url = 'http://yann.lecun.com/exdb/mnist/'\n",
    "\n",
    "    def parse_labels(filename):\n",
    "        with gzip.open(filename, 'rb') as fh:\n",
    "            magic, num_data = struct.unpack(\">II\", fh.read(8))\n",
    "            return np.array(array.array(\"B\", fh.read()), dtype=np.uint8)\n",
    "\n",
    "    def parse_images(filename):\n",
    "        with gzip.open(filename, 'rb') as fh:\n",
    "            magic, num_data, rows, cols = struct.unpack(\">IIII\", fh.read(16))\n",
    "            return np.array(array.array(\"B\", fh.read()), dtype=np.uint8).reshape(num_data, rows, cols)\n",
    "\n",
    "    for filename in ['train-images-idx3-ubyte.gz',\n",
    "                     'train-labels-idx1-ubyte.gz',\n",
    "                     't10k-images-idx3-ubyte.gz',\n",
    "                     't10k-labels-idx1-ubyte.gz']:\n",
    "        download(base_url + filename, filename)\n",
    "\n",
    "    train_images = parse_images('data/train-images-idx3-ubyte.gz')\n",
    "    train_labels = parse_labels('data/train-labels-idx1-ubyte.gz')\n",
    "    test_images = parse_images('data/t10k-images-idx3-ubyte.gz')\n",
    "    test_labels = parse_labels('data/t10k-labels-idx1-ubyte.gz')\n",
    "\n",
    "    return train_images, train_labels, test_images[:1000], test_labels[:1000]"
   ]
  },
  {
   "cell_type": "code",
   "execution_count": 4,
   "metadata": {},
   "outputs": [],
   "source": [
    "def load_mnist():\n",
    "    partial_flatten = lambda x: np.reshape(x, (x.shape[0], np.prod(x.shape[1:])))\n",
    "    one_hot = lambda x, k: np.array(x[:, None] == np.arange(k)[None, :], dtype=int)\n",
    "    train_images, train_labels, test_images, test_labels = mnist()\n",
    "    train_images = (partial_flatten(train_images) / 255.0 > .5).astype(float)\n",
    "    test_images = (partial_flatten(test_images) / 255.0 > .5).astype(float)\n",
    "    train_labels = one_hot(train_labels, 10)\n",
    "    test_labels = one_hot(test_labels, 10)\n",
    "    N_data = train_images.shape[0]\n",
    "\n",
    "    return N_data, train_images, train_labels, test_images, test_labels"
   ]
  },
  {
   "cell_type": "code",
   "execution_count": 5,
   "metadata": {},
   "outputs": [],
   "source": [
    "def plot_images(images, ax, ims_per_row=5, padding=5, digit_dimensions=(28, 28),\n",
    "                cmap=matplotlib.cm.binary, vmin=None, vmax=None):\n",
    "    \"\"\"Images should be a (N_images x pixels) matrix.\"\"\"\n",
    "    N_images = images.shape[0]\n",
    "    N_rows = np.int32(np.ceil(float(N_images) / ims_per_row))\n",
    "    pad_value = np.min(images.ravel())\n",
    "    concat_images = np.full(((digit_dimensions[0] + padding) * N_rows + padding,\n",
    "                             (digit_dimensions[1] + padding) * ims_per_row + padding), pad_value)\n",
    "    for i in range(N_images):\n",
    "        cur_image = np.reshape(images[i, :], digit_dimensions)\n",
    "        row_ix = i // ims_per_row\n",
    "        col_ix = i % ims_per_row\n",
    "        row_start = padding + (padding + digit_dimensions[0]) * row_ix\n",
    "        col_start = padding + (padding + digit_dimensions[1]) * col_ix\n",
    "        concat_images[row_start: row_start + digit_dimensions[0],\n",
    "                      col_start: col_start + digit_dimensions[1]] = cur_image\n",
    "        cax = ax.matshow(concat_images, cmap=cmap, vmin=vmin, vmax=vmax)\n",
    "        plt.xticks(np.array([]))\n",
    "        plt.yticks(np.array([]))\n",
    "    return cax"
   ]
  },
  {
   "cell_type": "code",
   "execution_count": 6,
   "metadata": {},
   "outputs": [],
   "source": [
    "def save_images(images, filename, **kwargs):\n",
    "    fig = plt.figure(1)\n",
    "    fig.clf()\n",
    "    ax = fig.add_subplot(111)\n",
    "    plot_images(images, ax, **kwargs)\n",
    "    fig.patch.set_visible(False)\n",
    "    ax.patch.set_visible(False)\n",
    "    plt.savefig(filename)"
   ]
  },
  {
   "cell_type": "code",
   "execution_count": 7,
   "metadata": {},
   "outputs": [],
   "source": [
    "def train_mle_estimator(train_images, train_labels):\n",
    "    \"\"\" Inputs: train_images, train_labels\n",
    "        Returns the MLE estimators theta_mle and pi_mle\"\"\"\n",
    "\n",
    "    # YOU NEED TO WRITE THIS PART\n",
    "    sample_per_class = np.sum(train_labels, axis=0)\n",
    "    pi_mle = sample_per_class / float(train_labels.shape[0])\n",
    "    \n",
    "    theta_mle = train_images.transpose() @ train_labels\n",
    "    \n",
    "    theta_mle /= sample_per_class\n",
    "    return theta_mle, pi_mle"
   ]
  },
  {
   "cell_type": "code",
   "execution_count": 8,
   "metadata": {},
   "outputs": [],
   "source": [
    "def train_map_estimator(train_images, train_labels):\n",
    "    \"\"\" Inputs: train_images, train_labels\n",
    "        Returns the MAP estimators theta_map and pi_map\"\"\"\n",
    "    \n",
    "    # YOU NEED TO WRITE THIS PART\n",
    "    sample_per_class = np.sum(train_labels, axis=0)\n",
    "    pi_mle = sample_per_class / float(train_labels.shape[0])\n",
    "    \n",
    "    sample_per_class += 4\n",
    "    theta_mle = train_images.transpose() @ train_labels + 2\n",
    "    theta_mle /= sample_per_class\n",
    "    \n",
    "    return theta_mle, pi_mle"
   ]
  },
  {
   "cell_type": "code",
   "execution_count": 9,
   "metadata": {},
   "outputs": [],
   "source": [
    "def log_likelihood(images, theta, pi):\n",
    "    \"\"\" Inputs: images, theta, pi\n",
    "        Returns the matrix 'log_like' of loglikehoods over the input images where\n",
    "    log_like[i,c] = log p (c |x^(i), theta, pi) using the estimators theta and pi.\n",
    "    log_like is a matrix of num of images x num of classes\n",
    "    Note that log likelihood is not only for c^(i), it is for all possible c's.\"\"\"\n",
    "\n",
    "    # YOU NEED TO WRITE THIS PART\n",
    "    ce = (images @ np.log(theta)) + ((1 - images) @ np.log(1 - theta)) + np.log(pi)\n",
    "    pd = np.zeros(shape=(images.shape[0], 1))\n",
    "    \n",
    "    for i in range(images.shape[0]):\n",
    "        x = images[i].reshape((images.shape[1],1))\n",
    "        pd[i] = np.sum(np.prod(theta * x + (1 - theta) * (1 - x), axis=0) * pi)\n",
    "    \n",
    "    return ce - np.log(pd)"
   ]
  },
  {
   "cell_type": "code",
   "execution_count": 10,
   "metadata": {},
   "outputs": [],
   "source": [
    "def predict(log_like):\n",
    "    \"\"\" Inputs: matrix of log likelihoods\n",
    "    Returns the predictions based on log likelihood values\"\"\"\n",
    "    predictions = (log_like == np.max(log_like, axis=1, keepdims=1)).astype(int)\n",
    "    # YOU NEED TO WRITE THIS PART\n",
    "    return predictions"
   ]
  },
  {
   "cell_type": "code",
   "execution_count": 11,
   "metadata": {},
   "outputs": [],
   "source": [
    "def accuracy(log_like, labels):\n",
    "    \"\"\" Inputs: matrix of log likelihoods and 1-of-K labels\n",
    "    Returns the accuracy based on predictions from log likelihood values\"\"\"\n",
    "    pred = predict(log_like)\n",
    "    accuracy = np.sum(np.all(pred == labels, axis=1)) / labels.shape[0]\n",
    "    # YOU NEED TO WRITE THIS PART\n",
    "    return accuracy"
   ]
  },
  {
   "cell_type": "code",
   "execution_count": 12,
   "metadata": {},
   "outputs": [],
   "source": [
    "def image_sampler(theta, pi, num_images):\n",
    "    \"\"\" Inputs: parameters theta and pi, and number of images to sample\n",
    "    Returns the sampled images\"\"\"\n",
    "    labels = np.random.choice(a=len(pi),size=num_images,p=pi)\n",
    "    probs = theta[:,labels].transpose()\n",
    "    sampled_images = np.random.binomial(1, probs)\n",
    "    # YOU NEED TO WRITE THIS PART\n",
    "    return sampled_images"
   ]
  },
  {
   "cell_type": "markdown",
   "metadata": {},
   "source": [
    "### Train with naive bayes model"
   ]
  },
  {
   "cell_type": "code",
   "execution_count": 13,
   "metadata": {},
   "outputs": [
    {
     "name": "stderr",
     "output_type": "stream",
     "text": [
      "/home/lichiheng/.conda/envs/csc311env/lib/python3.7/site-packages/ipykernel_launcher.py:9: RuntimeWarning: divide by zero encountered in log\n",
      "  if __name__ == '__main__':\n",
      "/home/lichiheng/.conda/envs/csc311env/lib/python3.7/site-packages/ipykernel_launcher.py:9: RuntimeWarning: invalid value encountered in matmul\n",
      "  if __name__ == '__main__':\n"
     ]
    },
    {
     "name": "stdout",
     "output_type": "stream",
     "text": [
      "Average log-likelihood for MLE is  nan\n",
      "Average log-likelihood for MAP is  -3.357063137860309\n",
      "Training accuracy for MAP is  0.8352166666666667\n",
      "Test accuracy for MAP is  0.816\n"
     ]
    }
   ],
   "source": [
    "N_data, train_images, train_labels, test_images, test_labels = load_mnist()\n",
    "# Fit MLE and MAP estimators\n",
    "theta_mle, pi_mle = train_mle_estimator(train_images, train_labels)\n",
    "theta_map, pi_map = train_map_estimator(train_images, train_labels)\n",
    "\n",
    "# Find the log likelihood of each data point\n",
    "loglike_train_mle = log_likelihood(train_images, theta_mle, pi_mle)\n",
    "loglike_train_map = log_likelihood(train_images, theta_map, pi_map)\n",
    "\n",
    "avg_loglike_mle = np.sum(loglike_train_mle * train_labels) / N_data\n",
    "avg_loglike_map = np.sum(loglike_train_map * train_labels) / N_data\n",
    "\n",
    "print(\"Average log-likelihood for MLE is \", avg_loglike_mle)\n",
    "print(\"Average log-likelihood for MAP is \", avg_loglike_map)\n",
    "\n",
    "train_accuracy_map = accuracy(loglike_train_map, train_labels)\n",
    "loglike_test_map = log_likelihood(test_images, theta_map, pi_map)\n",
    "test_accuracy_map = accuracy(loglike_test_map, test_labels)\n",
    "\n",
    "print(\"Training accuracy for MAP is \", train_accuracy_map)\n",
    "print(\"Test accuracy for MAP is \", test_accuracy_map)"
   ]
  },
  {
   "cell_type": "markdown",
   "metadata": {},
   "source": [
    "### Plot mle and map estimators"
   ]
  },
  {
   "cell_type": "code",
   "execution_count": 14,
   "metadata": {},
   "outputs": [
    {
     "data": {
      "image/png": "[encoded data removed]",
      "text/plain": [
       "<Figure size 432x288 with 1 Axes>"
      ]
     },
     "metadata": {},
     "output_type": "display_data"
    }
   ],
   "source": [
    "# Plot MLE estimators\n",
    "save_images(theta_mle.T, 'mle.png', cmap='gray')"
   ]
  },
  {
   "cell_type": "code",
   "execution_count": 15,
   "metadata": {},
   "outputs": [
    {
     "data": {
      "image/png": "[encoded data removed]",
      "text/plain": [
       "<Figure size 432x288 with 1 Axes>"
      ]
     },
     "metadata": {},
     "output_type": "display_data"
    }
   ],
   "source": [
    "# Plot MAP estimators\n",
    "save_images(theta_map.T, 'map.png', cmap='gray')"
   ]
  },
  {
   "cell_type": "markdown",
   "metadata": {},
   "source": [
    "### Generate samples from the generative model"
   ]
  },
  {
   "cell_type": "code",
   "execution_count": 16,
   "metadata": {},
   "outputs": [
    {
     "data": {
      "image/png": "[encoded data removed]",
      "text/plain": [
       "<Figure size 432x288 with 1 Axes>"
      ]
     },
     "metadata": {},
     "output_type": "display_data"
    }
   ],
   "source": [
    "# Sample 10 images\n",
    "sampled_images = image_sampler(theta_map, pi_map, 10)\n",
    "save_images(sampled_images, 'sampled_images.png')"
   ]
  }
 ],
 "metadata": {
  "kernelspec": {
   "display_name": "Python [conda env:.conda-csc311env] *",
   "language": "python",
   "name": "conda-env-.conda-csc311env-py"
  },
  "language_info": {
   "codemirror_mode": {
    "name": "ipython",
    "version": 3
   },
   "file_extension": ".py",
   "mimetype": "text/x-python",
   "name": "python",
   "nbconvert_exporter": "python",
   "pygments_lexer": "ipython3",
   "version": "3.7.4"
  }
 },
 "nbformat": 4,
 "nbformat_minor": 2
}
